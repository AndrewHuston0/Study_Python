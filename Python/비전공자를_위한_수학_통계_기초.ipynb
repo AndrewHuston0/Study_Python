{
  "nbformat": 4,
  "nbformat_minor": 0,
  "metadata": {
    "colab": {
      "provenance": []
    },
    "kernelspec": {
      "name": "python3",
      "display_name": "Python 3"
    },
    "language_info": {
      "name": "python"
    }
  },
  "cells": [
    {
      "cell_type": "code",
      "source": [
        "import math\n",
        "import matplotlib.pyplot as plt"
      ],
      "metadata": {
        "id": "xhMgvMEvQEk_"
      },
      "execution_count": 1,
      "outputs": []
    },
    {
      "cell_type": "markdown",
      "source": [
        "# 1. 함수\n",
        "- 함수의 정의\n",
        "- 수학적 함수 vs 프로그래밍에서의 함수\n",
        "- 함수를 사용한 데이터표현\n",
        "\n",
        "## 3) 함수를 사용한 데이터 표현"
      ],
      "metadata": {
        "id": "23sGHiHJPHSs"
      }
    },
    {
      "cell_type": "code",
      "source": [
        "x = 5\n",
        "y = 3*x +1\n",
        "\n",
        "print(y)\n",
        "\n",
        "x = 7\n",
        "y = 3*x +1\n",
        "print(y)"
      ],
      "metadata": {
        "colab": {
          "base_uri": "https://localhost:8080/"
        },
        "id": "BfGZbeSjP-JH",
        "outputId": "f2c6ab61-9027-4020-92c1-b8c028aec02d"
      },
      "execution_count": 2,
      "outputs": [
        {
          "output_type": "stream",
          "name": "stdout",
          "text": [
            "16\n",
            "22\n"
          ]
        }
      ]
    },
    {
      "cell_type": "code",
      "source": [
        "#위와 같은 것을 반복적으로 사용하기 위해서 python 에서 기본적으로 제공하는 def를 써서 함수를 정의할 수 있다.\n",
        "\n",
        "def fx(x):\n",
        "  return 3*x +1\n",
        "\n",
        "fx(5), fx(7)"
      ],
      "metadata": {
        "colab": {
          "base_uri": "https://localhost:8080/"
        },
        "id": "cCApDks1Rfse",
        "outputId": "cf628328-2f70-4a50-a619-1e3f9f255502"
      },
      "execution_count": 5,
      "outputs": [
        {
          "output_type": "execute_result",
          "data": {
            "text/plain": [
              "(16, 22)"
            ]
          },
          "metadata": {},
          "execution_count": 5
        }
      ]
    },
    {
      "cell_type": "code",
      "source": [
        " #위와 같은 것을 list형태로 얻기 위해 다음과 같이 할 수도 있음\n",
        " [fx(1), fx(2), fx(3), fx(4)]"
      ],
      "metadata": {
        "colab": {
          "base_uri": "https://localhost:8080/"
        },
        "id": "gL5ZJmrXR6-Y",
        "outputId": "2a7aad1f-9eac-4171-e38a-665b555a4a84"
      },
      "execution_count": 6,
      "outputs": [
        {
          "output_type": "execute_result",
          "data": {
            "text/plain": [
              "[4, 7, 10, 13]"
            ]
          },
          "metadata": {},
          "execution_count": 6
        }
      ]
    },
    {
      "cell_type": "code",
      "source": [
        "def fx(x): #제곱 하는 함수를 만드는 경우\n",
        "  return x**2\n",
        "\n",
        "fx(1), fx(2), fx(3), fx(4), fx(5)"
      ],
      "metadata": {
        "colab": {
          "base_uri": "https://localhost:8080/"
        },
        "id": "PoiJHKQtSjIF",
        "outputId": "f9003d25-1466-4840-91cb-b6db52881a3b"
      },
      "execution_count": 7,
      "outputs": [
        {
          "output_type": "execute_result",
          "data": {
            "text/plain": [
              "(1, 4, 9, 16, 25)"
            ]
          },
          "metadata": {},
          "execution_count": 7
        }
      ]
    },
    {
      "cell_type": "code",
      "source": [
        " #앞에 있는 함수에 1을 더하는 함수를 만들 경우 f(x) = 3f(x-1) + 1\n",
        " def fx(x): # 이걸 함수를 리커시브하게 정의한다고 하고 자기 자신을 활용하게 정의할 수 있음\n",
        "  if x <= 1 : return 1\n",
        "  return 3*fx(x-1) +1 # 참고로 이렇게만 적으면 초기값 없이 무한대로 마이너스로 갈 수 있기 때문에 앞에 초기값 조건을 넣어줘야함\n",
        "\n",
        "fx(1), fx(2), fx(3), fx(4), fx(5)"
      ],
      "metadata": {
        "colab": {
          "base_uri": "https://localhost:8080/"
        },
        "id": "xtWc20ngS-UX",
        "outputId": "77b3efd3-89a2-4669-c866-c347e4de57f1"
      },
      "execution_count": 9,
      "outputs": [
        {
          "output_type": "execute_result",
          "data": {
            "text/plain": [
              "(1, 4, 13, 40, 121)"
            ]
          },
          "metadata": {},
          "execution_count": 9
        }
      ]
    },
    {
      "cell_type": "code",
      "source": [
        " # 숫자가 특정한 패턴으로 반복되는 함수\n",
        " def fx(x):\n",
        "  return ((x-1)%2)*3 +3\n",
        "\n",
        "fx(1), fx(2), fx(3), fx(4), fx(5)"
      ],
      "metadata": {
        "colab": {
          "base_uri": "https://localhost:8080/"
        },
        "id": "uHV51kqZTbXn",
        "outputId": "05af45be-7112-4f0d-d5d0-8a64cf8076bd"
      },
      "execution_count": 13,
      "outputs": [
        {
          "output_type": "execute_result",
          "data": {
            "text/plain": [
              "(3, 6, 3, 6, 3)"
            ]
          },
          "metadata": {},
          "execution_count": 13
        }
      ]
    },
    {
      "cell_type": "code",
      "source": [
        "#위처럼 값을 일일히 대입하는 경우도 있겠지만 대량의 데이터를 한번에 입력해야 하는 경우도 있음\n",
        "a = []\n",
        "for x in range(1,5):\n",
        "  a.append(fx(x))\n",
        "print(a)"
      ],
      "metadata": {
        "colab": {
          "base_uri": "https://localhost:8080/"
        },
        "id": "pfPXGVpyUmAw",
        "outputId": "59162c9c-1b12-4f9d-c833-8bda4039d2c5"
      },
      "execution_count": 14,
      "outputs": [
        {
          "output_type": "stream",
          "name": "stdout",
          "text": [
            "[3, 6, 3, 6]\n"
          ]
        }
      ]
    },
    {
      "cell_type": "code",
      "source": [
        " # python에서는 for 문장을 위처럼 이용하는 법도 있으나 일반적으로 list에 바로 적용하는 방식을 많이 씀\n",
        " [fx(x) for x in range(1,10)]\n",
        " # 위의 경우는 a라는 특정 변수의 값을 다른 곳에서도 이용 가능하므로 list의 값만 구할 때 보다 더 직관적임\n",
        " # 강의자가 설명할 때 아랫값을 더 많이 쓴다고 설명한 것은 아마 데이터 분석 하는 애들 특성상 데이터를 여러번 재 사용하지 않을 확률이 높아서 그런듯\n",
        " # 변수를 정의해주는 것은 프로그램을 만들 때는 많이 쓸 것 같다."
      ],
      "metadata": {
        "colab": {
          "base_uri": "https://localhost:8080/"
        },
        "id": "o6GXQNLyVHVj",
        "outputId": "c54ee20f-3d1d-4b68-efbb-3dde82018949"
      },
      "execution_count": 15,
      "outputs": [
        {
          "output_type": "execute_result",
          "data": {
            "text/plain": [
              "[3, 6, 3, 6, 3, 6, 3, 6, 3]"
            ]
          },
          "metadata": {},
          "execution_count": 15
        }
      ]
    },
    {
      "cell_type": "markdown",
      "source": [
        "# 2. 선형/비선형 함수\n",
        "- 선형함수\n",
        "- 선형성의 의미\n",
        "- 비선형함수\n",
        "\n",
        "## 1) 선형함수"
      ],
      "metadata": {
        "id": "rjmIn8O-VuEv"
      }
    },
    {
      "cell_type": "code",
      "source": [
        "def fx(x):\n",
        "  return 2*x +1\n",
        "\n",
        "x = [1,2,3,4,5,6]\n",
        "y = [fx(i) for i in x]\n",
        "\n",
        "plt.plot(x,y) # plt가 그래프를 그릴 때 필요한 모듈, x,y숫자 개수는 동일 해야함"
      ],
      "metadata": {
        "colab": {
          "base_uri": "https://localhost:8080/",
          "height": 447
        },
        "id": "Zr3bD-YcWYtk",
        "outputId": "c4c67d48-2fc3-467e-dca2-60ce744393d9"
      },
      "execution_count": 20,
      "outputs": [
        {
          "output_type": "execute_result",
          "data": {
            "text/plain": [
              "[<matplotlib.lines.Line2D at 0x7e66128fe6e0>]"
            ]
          },
          "metadata": {},
          "execution_count": 20
        },
        {
          "output_type": "display_data",
          "data": {
            "text/plain": [
              "<Figure size 640x480 with 1 Axes>"
            ],
            "image/png": "[encoded data removed]"
          },
          "metadata": {}
        }
      ]
    },
    {
      "cell_type": "code",
      "source": [
        "def fx2(x):\n",
        "  return -2*x + 10\n",
        "\n",
        "y2 = [fx2(i) for  i in x]\n",
        "\n",
        "# 2개의 그래프를 동시에 그리는 법\n",
        "plt.plot(x,y, 'r') # 2*x +1, 빨간선으로 그려라\n",
        "plt.plot(x,y2, 'g') # -2*x + 10, 초록선으로 그려라"
      ],
      "metadata": {
        "colab": {
          "base_uri": "https://localhost:8080/",
          "height": 447
        },
        "id": "egfVh0K0W6jr",
        "outputId": "e550ccd2-fb33-4d51-9cd7-a12299a0afd4"
      },
      "execution_count": 22,
      "outputs": [
        {
          "output_type": "execute_result",
          "data": {
            "text/plain": [
              "[<matplotlib.lines.Line2D at 0x7e66128b3d00>]"
            ]
          },
          "metadata": {},
          "execution_count": 22
        },
        {
          "output_type": "display_data",
          "data": {
            "text/plain": [
              "<Figure size 640x480 with 1 Axes>"
            ],
            "image/png": "[encoded data removed]"
          },
          "metadata": {}
        }
      ]
    },
    {
      "cell_type": "markdown",
      "source": [
        "## 2) 선형성의 의미\n",
        "\n"
      ],
      "metadata": {
        "id": "1ln2F065fulh"
      }
    }
  ]
}